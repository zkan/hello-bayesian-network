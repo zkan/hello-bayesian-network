{
 "cells": [
  {
   "cell_type": "code",
   "execution_count": 19,
   "id": "bb6f7653",
   "metadata": {},
   "outputs": [],
   "source": [
    "import pomegranate as pg"
   ]
  },
  {
   "cell_type": "code",
   "execution_count": 20,
   "id": "489bca01",
   "metadata": {},
   "outputs": [],
   "source": [
    "rain = pg.DiscreteDistribution({'T': 0.2, 'F': 0.8})"
   ]
  },
  {
   "cell_type": "code",
   "execution_count": 21,
   "id": "9b3fce2b",
   "metadata": {},
   "outputs": [],
   "source": [
    "sprinkler = pg.ConditionalProbabilityTable(\n",
    "    [[ 'T', 'T', 0.01 ],\n",
    "     [ 'T', 'F', 0.99 ],\n",
    "     [ 'F', 'T', 0.4 ],\n",
    "     [ 'F', 'F', 0.6 ]], [rain])"
   ]
  },
  {
   "cell_type": "code",
   "execution_count": 22,
   "id": "3d817425",
   "metadata": {},
   "outputs": [],
   "source": [
    "grass_wet = pg.ConditionalProbabilityTable(\n",
    "    [[ 'T', 'T', 'T', 0.99 ],\n",
    "     [ 'T', 'T', 'F', 0.01 ],\n",
    "     [ 'T', 'F', 'T', 0.9 ],\n",
    "     [ 'T', 'F', 'F', 0.1 ],\n",
    "     [ 'F', 'T', 'T', 0.8 ],\n",
    "     [ 'F', 'T', 'F', 0.2 ],\n",
    "     [ 'F', 'F', 'T', 0.0 ],\n",
    "     [ 'F', 'F', 'F', 1.0 ]], [sprinkler, rain])"
   ]
  },
  {
   "cell_type": "code",
   "execution_count": 23,
   "id": "ef9f6a4f",
   "metadata": {},
   "outputs": [],
   "source": [
    "s1 = pg.State(rain, name=\"rain\")\n",
    "s2 = pg.State(sprinkler, name=\"sprinkler\")\n",
    "s3 = pg.State(grass_wet, name=\"grass_wet\")"
   ]
  },
  {
   "cell_type": "code",
   "execution_count": 24,
   "id": "b09da4bd",
   "metadata": {},
   "outputs": [],
   "source": [
    "model = pg.BayesianNetwork(\"Grass Wet Problem\")\n",
    "model.add_states(s1, s2, s3)"
   ]
  },
  {
   "cell_type": "code",
   "execution_count": 25,
   "id": "f6dc08ca",
   "metadata": {},
   "outputs": [],
   "source": [
    "model.add_edge(s1, s2)\n",
    "model.add_edge(s1, s3)\n",
    "model.add_edge(s2, s3)"
   ]
  },
  {
   "cell_type": "code",
   "execution_count": 26,
   "id": "4cdcea67",
   "metadata": {},
   "outputs": [],
   "source": [
    "model.bake()"
   ]
  },
  {
   "cell_type": "code",
   "execution_count": 27,
   "id": "1e576995",
   "metadata": {},
   "outputs": [
    {
     "data": {
      "image/png": "[encoded data removed]",
      "text/plain": [
       "<Figure size 432x288 with 1 Axes>"
      ]
     },
     "metadata": {
      "needs_background": "light"
     },
     "output_type": "display_data"
    }
   ],
   "source": [
    "model.plot()"
   ]
  },
  {
   "cell_type": "code",
   "execution_count": 29,
   "id": "5d5e190b",
   "metadata": {},
   "outputs": [
    {
     "name": "stdout",
     "output_type": "stream",
     "text": [
      "rain\tT\n",
      "sprinkler\tT\n",
      "grass_wet\t{\n",
      "    \"class\" : \"Distribution\",\n",
      "    \"dtype\" : \"str\",\n",
      "    \"name\" : \"DiscreteDistribution\",\n",
      "    \"parameters\" : [\n",
      "        {\n",
      "            \"T\" : 0.9899999999999998,\n",
      "            \"F\" : 0.010000000000000222\n",
      "        }\n",
      "    ],\n",
      "    \"frozen\" : false\n",
      "}\n"
     ]
    }
   ],
   "source": [
    "observations = {\n",
    "    'sprinkler': 'T',\n",
    "    'rain': 'T',\n",
    "}\n",
    "beliefs = map(str, model.predict_proba(observations))\n",
    "print(\"\\n\".join( \"{}\\t{}\".format(state.name, belief) for state, belief in zip(model.states, beliefs)))"
   ]
  },
  {
   "cell_type": "code",
   "execution_count": 30,
   "id": "47427aa0",
   "metadata": {},
   "outputs": [
    {
     "name": "stdout",
     "output_type": "stream",
     "text": [
      "rain\tT\n",
      "sprinkler\t{\n",
      "    \"class\" : \"Distribution\",\n",
      "    \"dtype\" : \"str\",\n",
      "    \"name\" : \"DiscreteDistribution\",\n",
      "    \"parameters\" : [\n",
      "        {\n",
      "            \"T\" : 0.010000000000000443,\n",
      "            \"F\" : 0.9899999999999995\n",
      "        }\n",
      "    ],\n",
      "    \"frozen\" : false\n",
      "}\n",
      "grass_wet\t{\n",
      "    \"class\" : \"Distribution\",\n",
      "    \"dtype\" : \"str\",\n",
      "    \"name\" : \"DiscreteDistribution\",\n",
      "    \"parameters\" : [\n",
      "        {\n",
      "            \"T\" : 0.8019,\n",
      "            \"F\" : 0.19810000000000005\n",
      "        }\n",
      "    ],\n",
      "    \"frozen\" : false\n",
      "}\n"
     ]
    }
   ],
   "source": [
    "observations = {\n",
    "    'rain': 'T',\n",
    "}\n",
    "beliefs = map(str, model.predict_proba(observations))\n",
    "print(\"\\n\".join( \"{}\\t{}\".format(state.name, belief) for state, belief in zip(model.states, beliefs)))"
   ]
  },
  {
   "cell_type": "code",
   "execution_count": 31,
   "id": "53520f57",
   "metadata": {},
   "outputs": [
    {
     "name": "stdout",
     "output_type": "stream",
     "text": [
      "rain\t{\n",
      "    \"class\" : \"Distribution\",\n",
      "    \"dtype\" : \"str\",\n",
      "    \"name\" : \"DiscreteDistribution\",\n",
      "    \"parameters\" : [\n",
      "        {\n",
      "            \"T\" : 0.06311553590126792,\n",
      "            \"F\" : 0.936884464098732\n",
      "        }\n",
      "    ],\n",
      "    \"frozen\" : false\n",
      "}\n",
      "sprinkler\t{\n",
      "    \"class\" : \"Distribution\",\n",
      "    \"dtype\" : \"str\",\n",
      "    \"name\" : \"DiscreteDistribution\",\n",
      "    \"parameters\" : [\n",
      "        {\n",
      "            \"T\" : 0.9504408226462099,\n",
      "            \"F\" : 0.0495591773537901\n",
      "        }\n",
      "    ],\n",
      "    \"frozen\" : false\n",
      "}\n",
      "grass_wet\tT\n"
     ]
    }
   ],
   "source": [
    "observations = {\n",
    "    'grass_wet': 'T',\n",
    "}\n",
    "beliefs = map(str, model.predict_proba(observations))\n",
    "print(\"\\n\".join( \"{}\\t{}\".format(state.name, belief) for state, belief in zip(model.states, beliefs)))"
   ]
  },
  {
   "cell_type": "code",
   "execution_count": 32,
   "id": "5c6cc6b3",
   "metadata": {},
   "outputs": [
    {
     "name": "stdout",
     "output_type": "stream",
     "text": [
      "rain\tT\n",
      "sprinkler\t{\n",
      "    \"class\" : \"Distribution\",\n",
      "    \"dtype\" : \"str\",\n",
      "    \"name\" : \"DiscreteDistribution\",\n",
      "    \"parameters\" : [\n",
      "        {\n",
      "            \"T\" : 0.010000000000000443,\n",
      "            \"F\" : 0.9899999999999995\n",
      "        }\n",
      "    ],\n",
      "    \"frozen\" : false\n",
      "}\n",
      "grass_wet\t{\n",
      "    \"class\" : \"Distribution\",\n",
      "    \"dtype\" : \"str\",\n",
      "    \"name\" : \"DiscreteDistribution\",\n",
      "    \"parameters\" : [\n",
      "        {\n",
      "            \"T\" : 0.8019,\n",
      "            \"F\" : 0.19810000000000005\n",
      "        }\n",
      "    ],\n",
      "    \"frozen\" : false\n",
      "}\n"
     ]
    }
   ],
   "source": [
    "observations = {\n",
    "    'rain': 'T',\n",
    "}\n",
    "beliefs = map(str, model.predict_proba(observations))\n",
    "print(\"\\n\".join( \"{}\\t{}\".format(state.name, belief) for state, belief in zip(model.states, beliefs)))"
   ]
  },
  {
   "cell_type": "code",
   "execution_count": null,
   "id": "07f3944a",
   "metadata": {},
   "outputs": [],
   "source": []
  }
 ],
 "metadata": {
  "kernelspec": {
   "display_name": "Python 3",
   "language": "python",
   "name": "python3"
  },
  "language_info": {
   "codemirror_mode": {
    "name": "ipython",
    "version": 3
   },
   "file_extension": ".py",
   "mimetype": "text/x-python",
   "name": "python",
   "nbconvert_exporter": "python",
   "pygments_lexer": "ipython3",
   "version": "3.8.4"
  }
 },
 "nbformat": 4,
 "nbformat_minor": 5
}
