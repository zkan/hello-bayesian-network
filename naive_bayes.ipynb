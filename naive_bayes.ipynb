{
 "cells": [
  {
   "cell_type": "code",
   "execution_count": 4,
   "id": "1c53c43a",
   "metadata": {},
   "outputs": [],
   "source": [
    "import pomegranate as pg"
   ]
  },
  {
   "cell_type": "code",
   "execution_count": 7,
   "id": "754a3a92",
   "metadata": {},
   "outputs": [],
   "source": [
    "d1 = pg.IndependentComponentsDistribution([pg.NormalDistribution(5, 2), pg.NormalDistribution(6, 1), pg.NormalDistribution(9, 1)])\n",
    "d2 = pg.IndependentComponentsDistribution([pg.NormalDistribution(2, 1), pg.NormalDistribution(8, 1), pg.NormalDistribution(5, 1)])\n",
    "d3 = pg.IndependentComponentsDistribution([pg.NormalDistribution(3, 1), pg.NormalDistribution(5, 3), pg.NormalDistribution(4, 1)])"
   ]
  },
  {
   "cell_type": "code",
   "execution_count": 8,
   "id": "03de16cc",
   "metadata": {},
   "outputs": [],
   "source": [
    "model = pg.NaiveBayes([d1, d2, d3])"
   ]
  },
  {
   "cell_type": "code",
   "execution_count": 15,
   "id": "bf4e6050",
   "metadata": {},
   "outputs": [
    {
     "data": {
      "text/plain": [
       "array([2], dtype=int32)"
      ]
     },
     "execution_count": 15,
     "metadata": {},
     "output_type": "execute_result"
    }
   ],
   "source": [
    "model.predict([1, 2, 3])"
   ]
  },
  {
   "cell_type": "code",
   "execution_count": 22,
   "id": "670da5a4",
   "metadata": {},
   "outputs": [
    {
     "data": {
      "text/plain": [
       "array([0], dtype=int32)"
      ]
     },
     "execution_count": 22,
     "metadata": {},
     "output_type": "execute_result"
    }
   ],
   "source": [
    "model.predict([100, 100, 100])"
   ]
  },
  {
   "cell_type": "code",
   "execution_count": 12,
   "id": "d4dd4979",
   "metadata": {},
   "outputs": [
    {
     "data": {
      "text/plain": [
       "array([[2.08319142e-11, 7.53299690e-08, 9.99999925e-01]])"
      ]
     },
     "execution_count": 12,
     "metadata": {},
     "output_type": "execute_result"
    }
   ],
   "source": [
    "model.predict_proba([1, 2, 3])"
   ]
  }
 ],
 "metadata": {
  "kernelspec": {
   "display_name": "Python 3",
   "language": "python",
   "name": "python3"
  },
  "language_info": {
   "codemirror_mode": {
    "name": "ipython",
    "version": 3
   },
   "file_extension": ".py",
   "mimetype": "text/x-python",
   "name": "python",
   "nbconvert_exporter": "python",
   "pygments_lexer": "ipython3",
   "version": "3.8.4"
  }
 },
 "nbformat": 4,
 "nbformat_minor": 5
}
