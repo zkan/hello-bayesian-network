{
 "cells": [
  {
   "cell_type": "code",
   "execution_count": 1,
   "id": "a49a9da7",
   "metadata": {},
   "outputs": [],
   "source": [
    "import pomegranate as pg"
   ]
  },
  {
   "cell_type": "code",
   "execution_count": 2,
   "id": "064c8a1e",
   "metadata": {},
   "outputs": [],
   "source": [
    "G = pg.DiscreteDistribution({'T': 0.02, 'F': 0.98})"
   ]
  },
  {
   "cell_type": "code",
   "execution_count": 3,
   "id": "fb3d2d15",
   "metadata": {},
   "outputs": [],
   "source": [
    "T = pg.ConditionalProbabilityTable(\n",
    "    [[ 'T', 'T', 0.8 ],\n",
    "     [ 'T', 'F', 0.2 ],\n",
    "     [ 'F', 'T', 0.1 ],\n",
    "     [ 'F', 'F', 0.9 ]], [G])"
   ]
  },
  {
   "cell_type": "code",
   "execution_count": 5,
   "id": "51676b19",
   "metadata": {},
   "outputs": [],
   "source": [
    "s1 = pg.State(G, name=\"G\")\n",
    "s2 = pg.State(T, name=\"T\")"
   ]
  },
  {
   "cell_type": "code",
   "execution_count": 6,
   "id": "913711cc",
   "metadata": {},
   "outputs": [],
   "source": [
    "model = pg.BayesianNetwork(\"Two Nodes Network\")\n",
    "model.add_states(s1, s2)"
   ]
  },
  {
   "cell_type": "code",
   "execution_count": 7,
   "id": "b1fd4755",
   "metadata": {},
   "outputs": [],
   "source": [
    "model.add_edge(s1, s2)"
   ]
  },
  {
   "cell_type": "code",
   "execution_count": 8,
   "id": "f8edb359",
   "metadata": {},
   "outputs": [],
   "source": [
    "model.bake()"
   ]
  },
  {
   "cell_type": "code",
   "execution_count": 9,
   "id": "5037cad2",
   "metadata": {},
   "outputs": [
    {
     "data": {
      "image/png": "[encoded data removed]",
      "text/plain": [
       "<Figure size 432x288 with 1 Axes>"
      ]
     },
     "metadata": {
      "needs_background": "light"
     },
     "output_type": "display_data"
    }
   ],
   "source": [
    "model.plot()"
   ]
  },
  {
   "cell_type": "code",
   "execution_count": 10,
   "id": "d67655e3",
   "metadata": {},
   "outputs": [
    {
     "name": "stdout",
     "output_type": "stream",
     "text": [
      "G\t{\n",
      "    \"class\" : \"Distribution\",\n",
      "    \"dtype\" : \"str\",\n",
      "    \"name\" : \"DiscreteDistribution\",\n",
      "    \"parameters\" : [\n",
      "        {\n",
      "            \"T\" : 0.14035087719298486,\n",
      "            \"F\" : 0.8596491228070151\n",
      "        }\n",
      "    ],\n",
      "    \"frozen\" : false\n",
      "}\n",
      "T\tT\n"
     ]
    }
   ],
   "source": [
    "observations = {\n",
    "    'T': 'T',\n",
    "}\n",
    "beliefs = map(str, model.predict_proba(observations))\n",
    "print(\"\\n\".join( \"{}\\t{}\".format(state.name, belief) for state, belief in zip(model.states, beliefs)))"
   ]
  },
  {
   "cell_type": "code",
   "execution_count": null,
   "id": "46eff3e4",
   "metadata": {},
   "outputs": [],
   "source": []
  }
 ],
 "metadata": {
  "kernelspec": {
   "display_name": "Python 3",
   "language": "python",
   "name": "python3"
  },
  "language_info": {
   "codemirror_mode": {
    "name": "ipython",
    "version": 3
   },
   "file_extension": ".py",
   "mimetype": "text/x-python",
   "name": "python",
   "nbconvert_exporter": "python",
   "pygments_lexer": "ipython3",
   "version": "3.8.4"
  }
 },
 "nbformat": 4,
 "nbformat_minor": 5
}
